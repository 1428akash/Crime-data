{
 "cells": [
  {
   "cell_type": "markdown",
   "metadata": {},
   "source": [
    "Database setup and import"
   ]
  },
  {
   "cell_type": "code",
   "execution_count": 19,
   "metadata": {},
   "outputs": [],
   "source": [
    "import pymysql\n",
    "import seaborn as sns\n",
    "from matplotlib import pyplot as plt   \n",
    "import pandas as pd\n",
    "import numpy as np"
   ]
  },
  {
   "cell_type": "markdown",
   "metadata": {},
   "source": [
    "Database connection"
   ]
  },
  {
   "cell_type": "code",
   "execution_count": 3,
   "metadata": {},
   "outputs": [],
   "source": [
    "connection = pymysql.connect(host=\"127.0.0.1\",user=\"root\",password=\"simpleapple\",database=\"minicap\")\n",
    "#connect is a function which has 4 parameters"
   ]
  },
  {
   "cell_type": "markdown",
   "metadata": {},
   "source": [
    "Verifying the successful import of the data"
   ]
  },
  {
   "cell_type": "code",
   "execution_count": 4,
   "metadata": {},
   "outputs": [
    {
     "name": "stderr",
     "output_type": "stream",
     "text": [
      "C:\\Users\\kumar\\AppData\\Local\\Temp\\ipykernel_7004\\2861508084.py:2: UserWarning: pandas only supports SQLAlchemy connectable (engine/connection) or database string URI or sqlite3 DBAPI2 connection. Other DBAPI2 objects are not tested. Please consider using SQLAlchemy.\n",
      "  df = pd.read_sql(query,connection)   #storing data in one df to plot\n"
     ]
    }
   ],
   "source": [
    "query = \"select * from crime_data where Vict_Age>30\"\n",
    "df = pd.read_sql(query,connection)   #storing data in one df to plot\n"
   ]
  },
  {
   "cell_type": "code",
   "execution_count": 5,
   "metadata": {},
   "outputs": [
    {
     "data": {
      "text/html": [
       "<div>\n",
       "<style scoped>\n",
       "    .dataframe tbody tr th:only-of-type {\n",
       "        vertical-align: middle;\n",
       "    }\n",
       "\n",
       "    .dataframe tbody tr th {\n",
       "        vertical-align: top;\n",
       "    }\n",
       "\n",
       "    .dataframe thead th {\n",
       "        text-align: right;\n",
       "    }\n",
       "</style>\n",
       "<table border=\"1\" class=\"dataframe\">\n",
       "  <thead>\n",
       "    <tr style=\"text-align: right;\">\n",
       "      <th></th>\n",
       "      <th>DR_NO</th>\n",
       "      <th>Date_Rptd</th>\n",
       "      <th>DATE_OCC</th>\n",
       "      <th>AREA_NAME</th>\n",
       "      <th>Crm_Cd</th>\n",
       "      <th>Crm_Cd_Desc</th>\n",
       "      <th>Vict_Age</th>\n",
       "      <th>Vict_Sex</th>\n",
       "      <th>Premis_Desc</th>\n",
       "      <th>Status</th>\n",
       "      <th>Location</th>\n",
       "      <th>LAT</th>\n",
       "      <th>LON</th>\n",
       "    </tr>\n",
       "  </thead>\n",
       "  <tbody>\n",
       "    <tr>\n",
       "      <th>0</th>\n",
       "      <td>10304468</td>\n",
       "      <td>01-08-2020</td>\n",
       "      <td>01-08-2020</td>\n",
       "      <td>Southwest</td>\n",
       "      <td>624</td>\n",
       "      <td>BATTERY - SIMPLE ASSAULT</td>\n",
       "      <td>36</td>\n",
       "      <td>F</td>\n",
       "      <td>SINGLE FAMILY DWELLING</td>\n",
       "      <td>AO</td>\n",
       "      <td>1100 W 39TH PL</td>\n",
       "      <td>34.01</td>\n",
       "      <td>-118.30</td>\n",
       "    </tr>\n",
       "    <tr>\n",
       "      <th>1</th>\n",
       "      <td>191501505</td>\n",
       "      <td>01-01-2020</td>\n",
       "      <td>01-01-2020</td>\n",
       "      <td>N Hollywood</td>\n",
       "      <td>745</td>\n",
       "      <td>VANDALISM - MISDEAMEANOR ($399 OR UNDER)</td>\n",
       "      <td>76</td>\n",
       "      <td>F</td>\n",
       "      <td>MULTI-UNIT DWELLING (APARTMENT, DUPLEX, ETC)</td>\n",
       "      <td>IC</td>\n",
       "      <td>5400 CORTEEN PL</td>\n",
       "      <td>34.17</td>\n",
       "      <td>-118.40</td>\n",
       "    </tr>\n",
       "    <tr>\n",
       "      <th>2</th>\n",
       "      <td>191921269</td>\n",
       "      <td>01-01-2020</td>\n",
       "      <td>01-01-2020</td>\n",
       "      <td>Mission</td>\n",
       "      <td>740</td>\n",
       "      <td>VANDALISM - FELONY ($400 &amp; OVER, ALL CHURCH VA...</td>\n",
       "      <td>31</td>\n",
       "      <td>X</td>\n",
       "      <td>BEAUTY SUPPLY STORE</td>\n",
       "      <td>IC</td>\n",
       "      <td>14400 TITUS ST</td>\n",
       "      <td>34.22</td>\n",
       "      <td>-118.45</td>\n",
       "    </tr>\n",
       "    <tr>\n",
       "      <th>3</th>\n",
       "      <td>200100510</td>\n",
       "      <td>01-05-2020</td>\n",
       "      <td>01-05-2020</td>\n",
       "      <td>Central</td>\n",
       "      <td>930</td>\n",
       "      <td>CRIMINAL THREATS - NO WEAPON DISPLAYED</td>\n",
       "      <td>35</td>\n",
       "      <td>M</td>\n",
       "      <td>PARKING LOT</td>\n",
       "      <td>IC</td>\n",
       "      <td>800 S OLIVE ST</td>\n",
       "      <td>34.06</td>\n",
       "      <td>-118.24</td>\n",
       "    </tr>\n",
       "    <tr>\n",
       "      <th>4</th>\n",
       "      <td>200100514</td>\n",
       "      <td>01-05-2020</td>\n",
       "      <td>01-05-2020</td>\n",
       "      <td>Central</td>\n",
       "      <td>341</td>\n",
       "      <td>THEFT-GRAND ($950.01 &amp; OVER)EXCPT,GUNS,FOWL,LI...</td>\n",
       "      <td>41</td>\n",
       "      <td>M</td>\n",
       "      <td>HOTEL</td>\n",
       "      <td>AA</td>\n",
       "      <td>700 W 7TH ST</td>\n",
       "      <td>34.05</td>\n",
       "      <td>-118.26</td>\n",
       "    </tr>\n",
       "  </tbody>\n",
       "</table>\n",
       "</div>"
      ],
      "text/plain": [
       "       DR_NO   Date_Rptd    DATE_OCC    AREA_NAME  Crm_Cd  \\\n",
       "0   10304468  01-08-2020  01-08-2020    Southwest     624   \n",
       "1  191501505  01-01-2020  01-01-2020  N Hollywood     745   \n",
       "2  191921269  01-01-2020  01-01-2020      Mission     740   \n",
       "3  200100510  01-05-2020  01-05-2020      Central     930   \n",
       "4  200100514  01-05-2020  01-05-2020      Central     341   \n",
       "\n",
       "                                         Crm_Cd_Desc  Vict_Age Vict_Sex  \\\n",
       "0                           BATTERY - SIMPLE ASSAULT        36        F   \n",
       "1           VANDALISM - MISDEAMEANOR ($399 OR UNDER)        76        F   \n",
       "2  VANDALISM - FELONY ($400 & OVER, ALL CHURCH VA...        31        X   \n",
       "3             CRIMINAL THREATS - NO WEAPON DISPLAYED        35        M   \n",
       "4  THEFT-GRAND ($950.01 & OVER)EXCPT,GUNS,FOWL,LI...        41        M   \n",
       "\n",
       "                                    Premis_Desc Status         Location  \\\n",
       "0                        SINGLE FAMILY DWELLING     AO   1100 W 39TH PL   \n",
       "1  MULTI-UNIT DWELLING (APARTMENT, DUPLEX, ETC)     IC  5400 CORTEEN PL   \n",
       "2                           BEAUTY SUPPLY STORE     IC   14400 TITUS ST   \n",
       "3                                   PARKING LOT     IC   800 S OLIVE ST   \n",
       "4                                         HOTEL     AA     700 W 7TH ST   \n",
       "\n",
       "     LAT     LON  \n",
       "0  34.01 -118.30  \n",
       "1  34.17 -118.40  \n",
       "2  34.22 -118.45  \n",
       "3  34.06 -118.24  \n",
       "4  34.05 -118.26  "
      ]
     },
     "execution_count": 5,
     "metadata": {},
     "output_type": "execute_result"
    }
   ],
   "source": [
    "df.head()"
   ]
  },
  {
   "cell_type": "markdown",
   "metadata": {},
   "source": [
    "Data Exploration"
   ]
  },
  {
   "cell_type": "code",
   "execution_count": 18,
   "metadata": {},
   "outputs": [
    {
     "name": "stdout",
     "output_type": "stream",
     "text": [
      "    Vict_Age  countof\n",
      "0         36        8\n",
      "1         25       13\n",
      "2         76        1\n",
      "3         31       13\n",
      "4         23       15\n",
      "..       ...      ...\n",
      "61        73        2\n",
      "62        42        3\n",
      "63        72        2\n",
      "64        70        1\n",
      "65        78        1\n",
      "\n",
      "[66 rows x 2 columns]\n"
     ]
    },
    {
     "name": "stderr",
     "output_type": "stream",
     "text": [
      "C:\\Users\\kumar\\AppData\\Local\\Temp\\ipykernel_7004\\2255258119.py:2: UserWarning: pandas only supports SQLAlchemy connectable (engine/connection) or database string URI or sqlite3 DBAPI2 connection. Other DBAPI2 objects are not tested. Please consider using SQLAlchemy.\n",
      "  df5 = pd.read_sql(query5,connection)\n"
     ]
    }
   ],
   "source": [
    "query5 = \"select Vict_Age, count(Crm_Cd) as countof from crime_data group by Vict_Age\"\n",
    "df5 = pd.read_sql(query5,connection)\n",
    "print(df5)\n"
   ]
  },
  {
   "cell_type": "code",
   "execution_count": 6,
   "metadata": {},
   "outputs": [
    {
     "data": {
      "text/plain": [
       "<Axes: xlabel='Vict_Age', ylabel='Count'>"
      ]
     },
     "execution_count": 6,
     "metadata": {},
     "output_type": "execute_result"
    },
    {
     "data": {
      "image/png": "[encoded data removed]",
      "text/plain": [
       "<Figure size 640x480 with 1 Axes>"
      ]
     },
     "metadata": {},
     "output_type": "display_data"
    }
   ],
   "source": [
    "sns.histplot(df[\"Vict_Age\"])"
   ]
  },
  {
   "cell_type": "markdown",
   "metadata": {},
   "source": [
    "The above graph shows that with 30-40 age group most of the crime was occurred. "
   ]
  },
  {
   "cell_type": "markdown",
   "metadata": {},
   "source": [
    "Total number of records"
   ]
  },
  {
   "cell_type": "code",
   "execution_count": 7,
   "metadata": {},
   "outputs": [
    {
     "name": "stdout",
     "output_type": "stream",
     "text": [
      "DR_NO          261\n",
      "Date_Rptd      261\n",
      "DATE_OCC       261\n",
      "AREA_NAME      261\n",
      "Crm_Cd         261\n",
      "Crm_Cd_Desc    261\n",
      "Vict_Age       261\n",
      "Vict_Sex       261\n",
      "Premis_Desc    261\n",
      "Status         261\n",
      "Location       261\n",
      "LAT            261\n",
      "LON            261\n",
      "dtype: int64\n"
     ]
    }
   ],
   "source": [
    "print(df.count())\n",
    "#print(df)"
   ]
  },
  {
   "cell_type": "code",
   "execution_count": 8,
   "metadata": {},
   "outputs": [
    {
     "name": "stdout",
     "output_type": "stream",
     "text": [
      "[624 745 740 930 341 354 230 442 761 350 310 440 330 900 210 888 886 420\n",
      " 647 940 480 662 220 625 946 901 351 648 320 623 850]\n"
     ]
    }
   ],
   "source": [
    "print(df[\"Crm_Cd\"].unique())"
   ]
  },
  {
   "cell_type": "markdown",
   "metadata": {},
   "source": [
    "GEOGRAPHICAL HOTSPOT FOR REPORTED CRIMES"
   ]
  },
  {
   "cell_type": "code",
   "execution_count": 9,
   "metadata": {},
   "outputs": [
    {
     "name": "stdout",
     "output_type": "stream",
     "text": [
      "LAT    LON      AREA_NAME  \n",
      "33.71  -118.29  Harbor          1\n",
      "33.74  -118.29  Harbor          2\n",
      "33.78  -118.31  Harbor          1\n",
      "33.79  -118.29  Harbor          1\n",
      "33.99  -118.31  77th Street     1\n",
      "34.01  -118.45  Pacific         1\n",
      "       -118.30  Southwest       1\n",
      "34.02  -118.35  Southwest       1\n",
      "34.03  -118.26  Central         4\n",
      "34.04  -118.40  West LA         1\n",
      "       -118.27  Central        10\n",
      "       -118.26  Central        21\n",
      "       -118.25  Central        32\n",
      "       -118.24  Central        17\n",
      "34.05  -118.30  Olympic         1\n",
      "       -118.27  Central         1\n",
      "       -118.26  Central        46\n",
      "       -118.25  Central        40\n",
      "       -118.24  Central        18\n",
      "34.06  -118.38  West LA         1\n",
      "       -118.34  Wilshire        1\n",
      "       -118.26  Rampart         1\n",
      "       -118.25  Central         3\n",
      "       -118.24  Central        24\n",
      "       -118.23  Central         3\n",
      "34.07  -118.28  Rampart         1\n",
      "       -118.25  Central         1\n",
      "       -118.24  Central         1\n",
      "       -118.23  Central         5\n",
      "34.08  -118.44  West LA         1\n",
      "       -118.35  Wilshire        1\n",
      "34.09  -118.28  Northeast       1\n",
      "34.10  -118.30  Hollywood       1\n",
      "34.11  -118.42  West LA         1\n",
      "       -118.22  Northeast       1\n",
      "34.12  -118.19  Northeast       1\n",
      "34.13  -118.20  Northeast       1\n",
      "34.14  -118.20  Northeast       1\n",
      "34.16  -118.44  Van Nuys        1\n",
      "34.17  -118.40  N Hollywood     1\n",
      "34.18  -118.45  Van Nuys        1\n",
      "34.20  -118.46  Van Nuys        1\n",
      "       -118.43  Van Nuys        1\n",
      "34.21  -118.56  West Valley     1\n",
      "       -118.41  N Hollywood     1\n",
      "34.22  -118.45  Mission         1\n",
      "34.23  -118.37  Foothill        1\n",
      "34.27  -118.36  Foothill        1\n",
      "34.28  -118.47  Devonshire      1\n",
      "Name: count, dtype: int64\n"
     ]
    }
   ],
   "source": [
    "df2 = df.groupby(['LAT','LON'])['AREA_NAME'].value_counts()\n",
    "print(df2)"
   ]
  },
  {
   "cell_type": "code",
   "execution_count": 10,
   "metadata": {},
   "outputs": [
    {
     "data": {
      "text/plain": [
       "<Axes: xlabel='LON', ylabel='LAT'>"
      ]
     },
     "execution_count": 10,
     "metadata": {},
     "output_type": "execute_result"
    },
    {
     "data": {
      "image/png": "[encoded data removed]",
      "text/plain": [
       "<Figure size 640x480 with 1 Axes>"
      ]
     },
     "metadata": {},
     "output_type": "display_data"
    }
   ],
   "source": [
    "\n",
    "sns.scatterplot(y=df[\"LAT\"],x=df[\"LON\"],hue=df[\"AREA_NAME\"])"
   ]
  },
  {
   "cell_type": "markdown",
   "metadata": {},
   "source": [
    "We can analyze the above graph and say that most of the crimes have occurred in  central"
   ]
  },
  {
   "cell_type": "code",
   "execution_count": 11,
   "metadata": {},
   "outputs": [
    {
     "name": "stdout",
     "output_type": "stream",
     "text": [
      "    Crm_Cd\n",
      "0      624\n",
      "1      745\n",
      "2      740\n",
      "3      442\n",
      "4      946\n",
      "5      341\n",
      "6      330\n",
      "7      930\n",
      "8      648\n",
      "9      354\n",
      "10     230\n",
      "11     761\n",
      "12     350\n",
      "13     310\n",
      "14     480\n",
      "15     623\n",
      "16     440\n",
      "17     510\n",
      "18     210\n",
      "19     900\n",
      "20     888\n",
      "21     420\n",
      "22     886\n",
      "23     421\n",
      "24     647\n",
      "25     940\n",
      "26     662\n",
      "27     220\n",
      "28     625\n",
      "29     755\n",
      "30     649\n",
      "31     901\n",
      "32     320\n",
      "33     890\n",
      "34     351\n",
      "35     956\n",
      "36     820\n",
      "37     812\n",
      "38     920\n",
      "39     850\n",
      "40     666\n",
      "41     343\n"
     ]
    },
    {
     "name": "stderr",
     "output_type": "stream",
     "text": [
      "C:\\Users\\kumar\\AppData\\Local\\Temp\\ipykernel_7004\\4164616890.py:2: UserWarning: pandas only supports SQLAlchemy connectable (engine/connection) or database string URI or sqlite3 DBAPI2 connection. Other DBAPI2 objects are not tested. Please consider using SQLAlchemy.\n",
      "  df2 = pd.read_sql(query2,connection)\n"
     ]
    }
   ],
   "source": [
    "query2 = \"select distinct Crm_Cd from crime_data\"\n",
    "df2 = pd.read_sql(query2,connection)\n",
    "print(df2)"
   ]
  },
  {
   "cell_type": "code",
   "execution_count": 12,
   "metadata": {},
   "outputs": [
    {
     "name": "stderr",
     "output_type": "stream",
     "text": [
      "C:\\Users\\kumar\\AppData\\Local\\Temp\\ipykernel_7004\\996853091.py:2: UserWarning: pandas only supports SQLAlchemy connectable (engine/connection) or database string URI or sqlite3 DBAPI2 connection. Other DBAPI2 objects are not tested. Please consider using SQLAlchemy.\n",
      "  df3 = pd.read_sql(query3,connection)\n"
     ]
    },
    {
     "data": {
      "text/plain": [
       "<Axes: xlabel='Crm_Cd'>"
      ]
     },
     "execution_count": 12,
     "metadata": {},
     "output_type": "execute_result"
    },
    {
     "data": {
      "image/png": "[encoded data removed]",
      "text/plain": [
       "<Figure size 640x480 with 1 Axes>"
      ]
     },
     "metadata": {},
     "output_type": "display_data"
    }
   ],
   "source": [
    "query3 = \"select Crm_Cd, count(Crm_Cd) as countof from crime_data group by Crm_Cd\"\n",
    "df3 = pd.read_sql(query3,connection)\n",
    "#print(df3)\n",
    "\n",
    "df3.plot(x=\"Crm_Cd\", y=\"countof\", kind=\"bar\")       \n"
   ]
  },
  {
   "cell_type": "markdown",
   "metadata": {},
   "source": [
    "From the above graph we can analyse that for the Crm_cd 330 (BURGLARY FROM VEHICLE) there were more number of cases "
   ]
  },
  {
   "cell_type": "code",
   "execution_count": 13,
   "metadata": {},
   "outputs": [
    {
     "name": "stderr",
     "output_type": "stream",
     "text": [
      "C:\\Users\\kumar\\AppData\\Local\\Temp\\ipykernel_7004\\59788949.py:2: UserWarning: pandas only supports SQLAlchemy connectable (engine/connection) or database string URI or sqlite3 DBAPI2 connection. Other DBAPI2 objects are not tested. Please consider using SQLAlchemy.\n",
      "  df4 = pd.read_sql(query4,connection)\n"
     ]
    },
    {
     "data": {
      "text/plain": [
       "<Axes: xlabel='Vict_Sex'>"
      ]
     },
     "execution_count": 13,
     "metadata": {},
     "output_type": "execute_result"
    },
    {
     "data": {
      "image/png": "[encoded data removed]",
      "text/plain": [
       "<Figure size 640x480 with 1 Axes>"
      ]
     },
     "metadata": {},
     "output_type": "display_data"
    }
   ],
   "source": [
    "query4 = \"select Vict_Sex, count(Crm_Cd) as countof from crime_data group by Vict_Sex\"\n",
    "df4 = pd.read_sql(query4,connection)\n",
    "#print(df4)\n",
    "\n",
    "#print(df4.isnull().sum())\n",
    "\n",
    "df4.plot(x=\"Vict_Sex\", y=\"countof\", kind=\"bar\")"
   ]
  },
  {
   "cell_type": "markdown",
   "metadata": {},
   "source": [
    "From this graph we can make it out that most of the crimes were occurred with Male."
   ]
  },
  {
   "cell_type": "code",
   "execution_count": 15,
   "metadata": {},
   "outputs": [
    {
     "name": "stdout",
     "output_type": "stream",
     "text": [
      "   month  countof\n",
      "0     01      314\n",
      "1     09        5\n",
      "2     12       12\n",
      "3     02      130\n",
      "4     11        8\n",
      "5     06        6\n",
      "6     03        4\n",
      "7     05        5\n",
      "8     07        3\n",
      "9     04        5\n",
      "10    10        4\n",
      "11    08        3\n"
     ]
    },
    {
     "name": "stderr",
     "output_type": "stream",
     "text": [
      "C:\\Users\\kumar\\AppData\\Local\\Temp\\ipykernel_7004\\1394378076.py:2: UserWarning: pandas only supports SQLAlchemy connectable (engine/connection) or database string URI or sqlite3 DBAPI2 connection. Other DBAPI2 objects are not tested. Please consider using SQLAlchemy.\n",
      "  df6 = pd.read_sql(query6,connection)\n"
     ]
    },
    {
     "data": {
      "text/plain": [
       "<Axes: xlabel='month'>"
      ]
     },
     "execution_count": 15,
     "metadata": {},
     "output_type": "execute_result"
    },
    {
     "data": {
      "image/png": "[encoded data removed]",
      "text/plain": [
       "<Figure size 640x480 with 1 Axes>"
      ]
     },
     "metadata": {},
     "output_type": "display_data"
    }
   ],
   "source": [
    "query6 = \"select substring(DATE_OCC, 1,2) as month, count(Crm_Cd) as countof from crime_data group by month\"\n",
    "df6 = pd.read_sql(query6,connection)\n",
    "print(df6)\n",
    "\n",
    "df6.plot(x=\"month\", y=\"countof\", kind=\"bar\")"
   ]
  },
  {
   "cell_type": "markdown",
   "metadata": {},
   "source": [
    "In this graph we can easily figure it out that in which month the CRIME was HIGH. As it shows that JANUARY month had around 314 number of CRIMES."
   ]
  }
 ],
 "metadata": {
  "kernelspec": {
   "display_name": "base",
   "language": "python",
   "name": "python3"
  },
  "language_info": {
   "codemirror_mode": {
    "name": "ipython",
    "version": 3
   },
   "file_extension": ".py",
   "mimetype": "text/x-python",
   "name": "python",
   "nbconvert_exporter": "python",
   "pygments_lexer": "ipython3",
   "version": "3.11.5"
  }
 },
 "nbformat": 4,
 "nbformat_minor": 2
}
